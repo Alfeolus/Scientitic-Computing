{
 "cells": [
  {
   "cell_type": "code",
   "execution_count": 12,
   "metadata": {},
   "outputs": [],
   "source": [
    "import numpy as np"
   ]
  },
  {
   "cell_type": "code",
   "execution_count": 9,
   "metadata": {},
   "outputs": [],
   "source": [
    "def f(x):\n",
    "    return 8* (x**5) - 10*(x**4) + (x**3) + 2*(x**2) - 9*x + 13\n",
    "def g(x):\n",
    "    return 40*(x**4) - 40*(x**3) + 3*(x**2) + 4*x - 9"
   ]
  },
  {
   "cell_type": "code",
   "execution_count": 10,
   "metadata": {},
   "outputs": [],
   "source": [
    "def newton_raphson(x, tolerance = 0.09, max_iteration = 50):\n",
    "    for i in range(max_iteration):\n",
    "        x = x - f(x)/g(x)\n",
    "        print(f\"iteration : {i+1} = {x} \")\n",
    "        if np.abs(f(x)) <tolerance:\n",
    "            return x\n",
    "    return x"
   ]
  },
  {
   "cell_type": "code",
   "execution_count": null,
   "metadata": {},
   "outputs": [],
   "source": [
    "print(f\"root: {newton_raphson(10)}\")"
   ]
  },
  {
   "cell_type": "markdown",
   "metadata": {},
   "source": [
    "BISECTION"
   ]
  },
  {
   "cell_type": "code",
   "execution_count": 18,
   "metadata": {},
   "outputs": [],
   "source": [
    "iteration = 0\n",
    "def bisection(left, right, tolerance = 0.09):\n",
    "    global iteration\n",
    "    iteration += 1\n",
    "    \n",
    "    if np.sign(f(left)) == np.sign(f(right)):\n",
    "        print(\"No root found\")\n",
    "        return False\n",
    "    \n",
    "    mid = (left +right)/2\n",
    "    if np.abs(f(mid)) < tolerance :\n",
    "        print(f\"root found at {iteration}: {mid}\")\n",
    "        return 1\n",
    "    if np.sign(f(left)) == np.sign(f(mid)):\n",
    "        return bisection(mid, right)\n",
    "    if np.sign(f(right)) == np.sign(f(mid)):\n",
    "        return bisection(left, mid)"
   ]
  },
  {
   "cell_type": "code",
   "execution_count": 19,
   "metadata": {},
   "outputs": [
    {
     "name": "stdout",
     "output_type": "stream",
     "text": [
      "root found at 13: -1.06201171875\n"
     ]
    },
    {
     "data": {
      "text/plain": [
       "1"
      ]
     },
     "execution_count": 19,
     "metadata": {},
     "output_type": "execute_result"
    }
   ],
   "source": [
    "bisection(-10, 10)"
   ]
  }
 ],
 "metadata": {
  "kernelspec": {
   "display_name": "sciComp",
   "language": "python",
   "name": "python3"
  },
  "language_info": {
   "codemirror_mode": {
    "name": "ipython",
    "version": 3
   },
   "file_extension": ".py",
   "mimetype": "text/x-python",
   "name": "python",
   "nbconvert_exporter": "python",
   "pygments_lexer": "ipython3",
   "version": "3.12.7"
  }
 },
 "nbformat": 4,
 "nbformat_minor": 2
}
